{
 "cells": [
  {
   "cell_type": "markdown",
   "id": "08013c8f",
   "metadata": {
    "papermill": {
     "duration": 0.007111,
     "end_time": "2023-04-20T20:26:56.732920",
     "exception": false,
     "start_time": "2023-04-20T20:26:56.725809",
     "status": "completed"
    },
    "tags": []
   },
   "source": [
    "# Comparison of Bidding Types with A/B Test"
   ]
  },
  {
   "cell_type": "markdown",
   "id": "ac2c90f8",
   "metadata": {
    "papermill": {
     "duration": 0.006932,
     "end_time": "2023-04-20T20:26:56.746024",
     "exception": false,
     "start_time": "2023-04-20T20:26:56.739092",
     "status": "completed"
    },
    "tags": []
   },
   "source": [
    "## Business Problem\n",
    "Facebook, recently introduced a bidding type called \"average bidding\" which is an alternative to existing \"maximum bidding\" type.\n",
    "One of the clients decided to test this new feature and they want to perform an A/B Test to see if average bidding will provide more turnover than maximum bidding.\n",
    "A/B Test is taking place for 1 month and the client wants to gain insight one the results of the analysis. Purchase metric is the ultimate succes criteria so it will the main focus on the statistical tests.\n"
   ]
  },
  {
   "cell_type": "markdown",
   "id": "69fc3c8b",
   "metadata": {
    "papermill": {
     "duration": 0.007859,
     "end_time": "2023-04-20T20:26:56.763197",
     "exception": false,
     "start_time": "2023-04-20T20:26:56.755338",
     "status": "completed"
    },
    "tags": []
   },
   "source": [
    "## Dataset\n",
    "The dataset includes information about a website. The number of advertisements clicked and viewed, earnings from the product can be observed in the dataset. There is 2 different datasets which are control and test groups. Maximum bidding is applied to the control test and average bidding is applied to the test group. The variables are as follows:\n",
    "* **Impression:** Advertisement view count  \n",
    "* **Click:** Click count on the viewed ad  \n",
    "* **Purchase:** Purchased product count after ad click  \n",
    "* **Earning:** Earnings from the prodcuts\n"
   ]
  },
  {
   "cell_type": "code",
   "execution_count": 1,
   "id": "c8c852d3",
   "metadata": {
    "execution": {
     "iopub.execute_input": "2023-04-20T20:26:56.781632Z",
     "iopub.status.busy": "2023-04-20T20:26:56.780544Z",
     "iopub.status.idle": "2023-04-20T20:26:58.024723Z",
     "shell.execute_reply": "2023-04-20T20:26:58.023648Z"
    },
    "papermill": {
     "duration": 1.256444,
     "end_time": "2023-04-20T20:26:58.027618",
     "exception": false,
     "start_time": "2023-04-20T20:26:56.771174",
     "status": "completed"
    },
    "tags": []
   },
   "outputs": [],
   "source": [
    "import itertools\n",
    "import numpy as np\n",
    "import pandas as pd\n",
    "import matplotlib.pyplot as plt\n",
    "import seaborn as sns\n",
    "import statsmodels.stats.api as sms\n",
    "from scipy.stats import ttest_1samp, shapiro, levene, ttest_ind, mannwhitneyu\n",
    "from statsmodels.stats.proportion import proportions_ztest\n",
    "\n",
    "pd.set_option('display.max_columns', None)\n",
    "pd.set_option('display.max_rows', 10)\n",
    "pd.set_option('display.float_format', lambda x: '%.5f' % x)\n",
    "pd.set_option('display.width', 225)"
   ]
  },
  {
   "cell_type": "code",
   "execution_count": 2,
   "id": "0a6bc8d8",
   "metadata": {
    "execution": {
     "iopub.execute_input": "2023-04-20T20:26:58.042681Z",
     "iopub.status.busy": "2023-04-20T20:26:58.041455Z",
     "iopub.status.idle": "2023-04-20T20:26:58.441809Z",
     "shell.execute_reply": "2023-04-20T20:26:58.440700Z"
    },
    "papermill": {
     "duration": 0.4108,
     "end_time": "2023-04-20T20:26:58.444624",
     "exception": false,
     "start_time": "2023-04-20T20:26:58.033824",
     "status": "completed"
    },
    "tags": []
   },
   "outputs": [],
   "source": [
    "# Control and tests groups are assigned from respective sheets.\n",
    "control_group_ = pd.read_excel(\"../input/ab-test/ab_testing.xlsx\", sheet_name = \"Control Group\")\n",
    "test_group_ = pd.read_excel(\"../input/ab-test/ab_testing.xlsx\", sheet_name = \"Test Group\")"
   ]
  },
  {
   "cell_type": "code",
   "execution_count": 3,
   "id": "a1f08e9c",
   "metadata": {
    "execution": {
     "iopub.execute_input": "2023-04-20T20:26:58.458234Z",
     "iopub.status.busy": "2023-04-20T20:26:58.457833Z",
     "iopub.status.idle": "2023-04-20T20:26:58.463022Z",
     "shell.execute_reply": "2023-04-20T20:26:58.461937Z"
    },
    "papermill": {
     "duration": 0.014789,
     "end_time": "2023-04-20T20:26:58.465467",
     "exception": false,
     "start_time": "2023-04-20T20:26:58.450678",
     "status": "completed"
    },
    "tags": []
   },
   "outputs": [],
   "source": [
    "control_group = control_group_.copy()\n",
    "test_group = test_group_.copy()"
   ]
  },
  {
   "cell_type": "code",
   "execution_count": 4,
   "id": "21624e74",
   "metadata": {
    "execution": {
     "iopub.execute_input": "2023-04-20T20:26:58.479006Z",
     "iopub.status.busy": "2023-04-20T20:26:58.478593Z",
     "iopub.status.idle": "2023-04-20T20:26:58.485550Z",
     "shell.execute_reply": "2023-04-20T20:26:58.484425Z"
    },
    "papermill": {
     "duration": 0.016521,
     "end_time": "2023-04-20T20:26:58.488032",
     "exception": false,
     "start_time": "2023-04-20T20:26:58.471511",
     "status": "completed"
    },
    "tags": []
   },
   "outputs": [],
   "source": [
    "# general_info function is written to observe the dataset briefly.\n",
    "def general_info (dataframe):\n",
    "    print(\"------ Shape ------\")\n",
    "    print(dataframe.shape,\"\\n\")\n",
    "    print(\"------ Variable Types ------\")\n",
    "    print(dataframe.info(),\"\\n\")\n",
    "    print(\"------ Head ------\")\n",
    "    print(dataframe.head(10),\"\\n\")\n",
    "    print(\"------ Variables ------\")\n",
    "    print(dataframe.columns,\"\\n\")\n",
    "    print(\"------ Statistics ------\")\n",
    "    print(dataframe.describe().T,\"\\n\")\n",
    "    print(\"------ Null Value ------\")\n",
    "    print(dataframe.isnull().sum(),\"\\n\")\n",
    "    "
   ]
  },
  {
   "cell_type": "code",
   "execution_count": 5,
   "id": "3154c484",
   "metadata": {
    "execution": {
     "iopub.execute_input": "2023-04-20T20:26:58.501686Z",
     "iopub.status.busy": "2023-04-20T20:26:58.501003Z",
     "iopub.status.idle": "2023-04-20T20:26:58.545716Z",
     "shell.execute_reply": "2023-04-20T20:26:58.544478Z"
    },
    "papermill": {
     "duration": 0.055346,
     "end_time": "2023-04-20T20:26:58.549305",
     "exception": false,
     "start_time": "2023-04-20T20:26:58.493959",
     "status": "completed"
    },
    "tags": []
   },
   "outputs": [
    {
     "name": "stdout",
     "output_type": "stream",
     "text": [
      "------ Shape ------\n",
      "(40, 4) \n",
      "\n",
      "------ Variable Types ------\n",
      "<class 'pandas.core.frame.DataFrame'>\n",
      "RangeIndex: 40 entries, 0 to 39\n",
      "Data columns (total 4 columns):\n",
      " #   Column      Non-Null Count  Dtype  \n",
      "---  ------      --------------  -----  \n",
      " 0   Impression  40 non-null     float64\n",
      " 1   Click       40 non-null     float64\n",
      " 2   Purchase    40 non-null     float64\n",
      " 3   Earning     40 non-null     float64\n",
      "dtypes: float64(4)\n",
      "memory usage: 1.4 KB\n",
      "None \n",
      "\n",
      "------ Head ------\n",
      "    Impression      Click  Purchase    Earning\n",
      "0  82529.45927 6090.07732 665.21125 2311.27714\n",
      "1  98050.45193 3382.86179 315.08489 1742.80686\n",
      "2  82696.02355 4167.96575 458.08374 1797.82745\n",
      "3 109914.40040 4910.88224 487.09077 1696.22918\n",
      "4 108457.76263 5987.65581 441.03405 1543.72018\n",
      "5  77773.63390 4462.20659 519.66966 2081.85185\n",
      "6  95110.58627 3555.58067 512.92875 1815.00661\n",
      "7 106649.18307 4358.02704 747.02012 1965.10040\n",
      "8 122709.71659 5091.55896 745.98568 1651.66299\n",
      "9  79498.24866 6653.84552 470.50137 2456.30424 \n",
      "\n",
      "------ Variables ------\n",
      "Index(['Impression', 'Click', 'Purchase', 'Earning'], dtype='object') \n",
      "\n",
      "------ Statistics ------\n",
      "              count         mean         std         min         25%         50%          75%          max\n",
      "Impression 40.00000 101711.44907 20302.15786 45475.94296 85726.69035 99790.70108 115212.81654 147539.33633\n",
      "Click      40.00000   5100.65737  1329.98550  2189.75316  4124.30413  5001.22060   5923.80360   7959.12507\n",
      "Purchase   40.00000    550.89406   134.10820   267.02894   470.09553   531.20631    637.95709    801.79502\n",
      "Earning    40.00000   1908.56830   302.91778  1253.98952  1685.84720  1975.16052   2119.80278   2497.29522 \n",
      "\n",
      "------ Null Value ------\n",
      "Impression    0\n",
      "Click         0\n",
      "Purchase      0\n",
      "Earning       0\n",
      "dtype: int64 \n",
      "\n"
     ]
    }
   ],
   "source": [
    "general_info(control_group)"
   ]
  },
  {
   "cell_type": "code",
   "execution_count": 6,
   "id": "4461e1f2",
   "metadata": {
    "execution": {
     "iopub.execute_input": "2023-04-20T20:26:58.565266Z",
     "iopub.status.busy": "2023-04-20T20:26:58.564880Z",
     "iopub.status.idle": "2023-04-20T20:26:58.593449Z",
     "shell.execute_reply": "2023-04-20T20:26:58.592209Z"
    },
    "papermill": {
     "duration": 0.039273,
     "end_time": "2023-04-20T20:26:58.596253",
     "exception": false,
     "start_time": "2023-04-20T20:26:58.556980",
     "status": "completed"
    },
    "tags": []
   },
   "outputs": [
    {
     "name": "stdout",
     "output_type": "stream",
     "text": [
      "------ Shape ------\n",
      "(40, 4) \n",
      "\n",
      "------ Variable Types ------\n",
      "<class 'pandas.core.frame.DataFrame'>\n",
      "RangeIndex: 40 entries, 0 to 39\n",
      "Data columns (total 4 columns):\n",
      " #   Column      Non-Null Count  Dtype  \n",
      "---  ------      --------------  -----  \n",
      " 0   Impression  40 non-null     float64\n",
      " 1   Click       40 non-null     float64\n",
      " 2   Purchase    40 non-null     float64\n",
      " 3   Earning     40 non-null     float64\n",
      "dtypes: float64(4)\n",
      "memory usage: 1.4 KB\n",
      "None \n",
      "\n",
      "------ Head ------\n",
      "    Impression      Click  Purchase    Earning\n",
      "0 120103.50380 3216.54796 702.16035 1939.61124\n",
      "1 134775.94336 3635.08242 834.05429 2929.40582\n",
      "2 107806.62079 3057.14356 422.93426 2526.24488\n",
      "3 116445.27553 4650.47391 429.03353 2281.42857\n",
      "4 145082.51684 5201.38772 749.86044 2781.69752\n",
      "5 115923.00695 4213.86862 778.37316 2157.40855\n",
      "6 106116.43664 3279.47297 491.61453 2560.41120\n",
      "7 125957.11610 4690.56991 855.71980 2563.57976\n",
      "8 117442.86465 3907.93924 660.47791 2242.23259\n",
      "9 131271.71560 4721.18781 532.27934 2368.10857 \n",
      "\n",
      "------ Variables ------\n",
      "Index(['Impression', 'Click', 'Purchase', 'Earning'], dtype='object') \n",
      "\n",
      "------ Statistics ------\n",
      "              count         mean         std         min          25%          50%          75%          max\n",
      "Impression 40.00000 120512.41176 18807.44871 79033.83492 112691.97077 119291.30077 132050.57893 158605.92048\n",
      "Click      40.00000   3967.54976   923.09507  1836.62986   3376.81902   3931.35980   4660.49791   6019.69508\n",
      "Purchase   40.00000    582.10610   161.15251   311.62952    444.62683    551.35573    699.86236    889.91046\n",
      "Earning    40.00000   2514.89073   282.73085  1939.61124   2280.53743   2544.66611   2761.54540   3171.48971 \n",
      "\n",
      "------ Null Value ------\n",
      "Impression    0\n",
      "Click         0\n",
      "Purchase      0\n",
      "Earning       0\n",
      "dtype: int64 \n",
      "\n"
     ]
    }
   ],
   "source": [
    "general_info(test_group)"
   ]
  },
  {
   "cell_type": "code",
   "execution_count": 7,
   "id": "43c4fad4",
   "metadata": {
    "execution": {
     "iopub.execute_input": "2023-04-20T20:26:58.610861Z",
     "iopub.status.busy": "2023-04-20T20:26:58.610410Z",
     "iopub.status.idle": "2023-04-20T20:26:58.617222Z",
     "shell.execute_reply": "2023-04-20T20:26:58.615931Z"
    },
    "papermill": {
     "duration": 0.016873,
     "end_time": "2023-04-20T20:26:58.619584",
     "exception": false,
     "start_time": "2023-04-20T20:26:58.602711",
     "status": "completed"
    },
    "tags": []
   },
   "outputs": [],
   "source": [
    "# Group variables are added to datasets before merging two groups. This enables us to distinguish two groups in the merged dataset.\n",
    "control_group[\"Group\"] = \"Control\"\n",
    "test_group[\"Group\"] = \"Test\""
   ]
  },
  {
   "cell_type": "code",
   "execution_count": 8,
   "id": "28a1bb50",
   "metadata": {
    "execution": {
     "iopub.execute_input": "2023-04-20T20:26:58.633041Z",
     "iopub.status.busy": "2023-04-20T20:26:58.632651Z",
     "iopub.status.idle": "2023-04-20T20:26:58.650466Z",
     "shell.execute_reply": "2023-04-20T20:26:58.649273Z"
    },
    "papermill": {
     "duration": 0.027159,
     "end_time": "2023-04-20T20:26:58.652785",
     "exception": false,
     "start_time": "2023-04-20T20:26:58.625626",
     "status": "completed"
    },
    "tags": []
   },
   "outputs": [
    {
     "data": {
      "text/html": [
       "<div>\n",
       "<style scoped>\n",
       "    .dataframe tbody tr th:only-of-type {\n",
       "        vertical-align: middle;\n",
       "    }\n",
       "\n",
       "    .dataframe tbody tr th {\n",
       "        vertical-align: top;\n",
       "    }\n",
       "\n",
       "    .dataframe thead th {\n",
       "        text-align: right;\n",
       "    }\n",
       "</style>\n",
       "<table border=\"1\" class=\"dataframe\">\n",
       "  <thead>\n",
       "    <tr style=\"text-align: right;\">\n",
       "      <th></th>\n",
       "      <th>Impression</th>\n",
       "      <th>Click</th>\n",
       "      <th>Purchase</th>\n",
       "      <th>Earning</th>\n",
       "      <th>Group</th>\n",
       "    </tr>\n",
       "  </thead>\n",
       "  <tbody>\n",
       "    <tr>\n",
       "      <th>0</th>\n",
       "      <td>82529.45927</td>\n",
       "      <td>6090.07732</td>\n",
       "      <td>665.21125</td>\n",
       "      <td>2311.27714</td>\n",
       "      <td>Control</td>\n",
       "    </tr>\n",
       "    <tr>\n",
       "      <th>1</th>\n",
       "      <td>98050.45193</td>\n",
       "      <td>3382.86179</td>\n",
       "      <td>315.08489</td>\n",
       "      <td>1742.80686</td>\n",
       "      <td>Control</td>\n",
       "    </tr>\n",
       "    <tr>\n",
       "      <th>2</th>\n",
       "      <td>82696.02355</td>\n",
       "      <td>4167.96575</td>\n",
       "      <td>458.08374</td>\n",
       "      <td>1797.82745</td>\n",
       "      <td>Control</td>\n",
       "    </tr>\n",
       "    <tr>\n",
       "      <th>3</th>\n",
       "      <td>109914.40040</td>\n",
       "      <td>4910.88224</td>\n",
       "      <td>487.09077</td>\n",
       "      <td>1696.22918</td>\n",
       "      <td>Control</td>\n",
       "    </tr>\n",
       "    <tr>\n",
       "      <th>4</th>\n",
       "      <td>108457.76263</td>\n",
       "      <td>5987.65581</td>\n",
       "      <td>441.03405</td>\n",
       "      <td>1543.72018</td>\n",
       "      <td>Control</td>\n",
       "    </tr>\n",
       "  </tbody>\n",
       "</table>\n",
       "</div>"
      ],
      "text/plain": [
       "    Impression      Click  Purchase    Earning    Group\n",
       "0  82529.45927 6090.07732 665.21125 2311.27714  Control\n",
       "1  98050.45193 3382.86179 315.08489 1742.80686  Control\n",
       "2  82696.02355 4167.96575 458.08374 1797.82745  Control\n",
       "3 109914.40040 4910.88224 487.09077 1696.22918  Control\n",
       "4 108457.76263 5987.65581 441.03405 1543.72018  Control"
      ]
     },
     "execution_count": 8,
     "metadata": {},
     "output_type": "execute_result"
    }
   ],
   "source": [
    "df = pd.concat([control_group,test_group])\n",
    "df.head()"
   ]
  },
  {
   "cell_type": "code",
   "execution_count": 9,
   "id": "0fc0e411",
   "metadata": {
    "execution": {
     "iopub.execute_input": "2023-04-20T20:26:58.667744Z",
     "iopub.status.busy": "2023-04-20T20:26:58.667346Z",
     "iopub.status.idle": "2023-04-20T20:26:58.698224Z",
     "shell.execute_reply": "2023-04-20T20:26:58.696333Z"
    },
    "papermill": {
     "duration": 0.042519,
     "end_time": "2023-04-20T20:26:58.701819",
     "exception": false,
     "start_time": "2023-04-20T20:26:58.659300",
     "status": "completed"
    },
    "tags": []
   },
   "outputs": [
    {
     "name": "stdout",
     "output_type": "stream",
     "text": [
      "------ Shape ------\n",
      "(80, 5) \n",
      "\n",
      "------ Variable Types ------\n",
      "<class 'pandas.core.frame.DataFrame'>\n",
      "Int64Index: 80 entries, 0 to 39\n",
      "Data columns (total 5 columns):\n",
      " #   Column      Non-Null Count  Dtype  \n",
      "---  ------      --------------  -----  \n",
      " 0   Impression  80 non-null     float64\n",
      " 1   Click       80 non-null     float64\n",
      " 2   Purchase    80 non-null     float64\n",
      " 3   Earning     80 non-null     float64\n",
      " 4   Group       80 non-null     object \n",
      "dtypes: float64(4), object(1)\n",
      "memory usage: 3.8+ KB\n",
      "None \n",
      "\n",
      "------ Head ------\n",
      "    Impression      Click  Purchase    Earning    Group\n",
      "0  82529.45927 6090.07732 665.21125 2311.27714  Control\n",
      "1  98050.45193 3382.86179 315.08489 1742.80686  Control\n",
      "2  82696.02355 4167.96575 458.08374 1797.82745  Control\n",
      "3 109914.40040 4910.88224 487.09077 1696.22918  Control\n",
      "4 108457.76263 5987.65581 441.03405 1543.72018  Control\n",
      "5  77773.63390 4462.20659 519.66966 2081.85185  Control\n",
      "6  95110.58627 3555.58067 512.92875 1815.00661  Control\n",
      "7 106649.18307 4358.02704 747.02012 1965.10040  Control\n",
      "8 122709.71659 5091.55896 745.98568 1651.66299  Control\n",
      "9  79498.24866 6653.84552 470.50137 2456.30424  Control \n",
      "\n",
      "------ Variables ------\n",
      "Index(['Impression', 'Click', 'Purchase', 'Earning', 'Group'], dtype='object') \n",
      "\n",
      "------ Statistics ------\n",
      "              count         mean         std         min         25%          50%          75%          max\n",
      "Impression 80.00000 111111.93041 21623.80775 45475.94296 95063.86063 114037.03500 124138.65239 158605.92048\n",
      "Click      80.00000   4534.10357  1272.37607  1836.62986  3632.89183   4321.60283   5272.61606   7959.12507\n",
      "Purchase   80.00000    566.50008   148.14184   267.02894   458.13788    532.12508    679.55760    889.91046\n",
      "Earning    80.00000   2211.72952   421.70058  1253.98952  1945.71316   2205.53626   2541.37752   3171.48971 \n",
      "\n",
      "------ Null Value ------\n",
      "Impression    0\n",
      "Click         0\n",
      "Purchase      0\n",
      "Earning       0\n",
      "Group         0\n",
      "dtype: int64 \n",
      "\n"
     ]
    }
   ],
   "source": [
    "general_info(df)"
   ]
  },
  {
   "cell_type": "code",
   "execution_count": 10,
   "id": "4bbc3c87",
   "metadata": {
    "execution": {
     "iopub.execute_input": "2023-04-20T20:26:58.717112Z",
     "iopub.status.busy": "2023-04-20T20:26:58.716718Z",
     "iopub.status.idle": "2023-04-20T20:26:58.752481Z",
     "shell.execute_reply": "2023-04-20T20:26:58.751389Z"
    },
    "papermill": {
     "duration": 0.046305,
     "end_time": "2023-04-20T20:26:58.755265",
     "exception": false,
     "start_time": "2023-04-20T20:26:58.708960",
     "status": "completed"
    },
    "tags": []
   },
   "outputs": [
    {
     "data": {
      "text/html": [
       "<div>\n",
       "<style scoped>\n",
       "    .dataframe tbody tr th:only-of-type {\n",
       "        vertical-align: middle;\n",
       "    }\n",
       "\n",
       "    .dataframe tbody tr th {\n",
       "        vertical-align: top;\n",
       "    }\n",
       "\n",
       "    .dataframe thead tr th {\n",
       "        text-align: left;\n",
       "    }\n",
       "\n",
       "    .dataframe thead tr:last-of-type th {\n",
       "        text-align: right;\n",
       "    }\n",
       "</style>\n",
       "<table border=\"1\" class=\"dataframe\">\n",
       "  <thead>\n",
       "    <tr>\n",
       "      <th></th>\n",
       "      <th colspan=\"4\" halign=\"left\">Impression</th>\n",
       "      <th colspan=\"4\" halign=\"left\">Click</th>\n",
       "      <th colspan=\"4\" halign=\"left\">Purchase</th>\n",
       "      <th colspan=\"4\" halign=\"left\">Earning</th>\n",
       "    </tr>\n",
       "    <tr>\n",
       "      <th></th>\n",
       "      <th>mean</th>\n",
       "      <th>std</th>\n",
       "      <th>min</th>\n",
       "      <th>max</th>\n",
       "      <th>mean</th>\n",
       "      <th>std</th>\n",
       "      <th>min</th>\n",
       "      <th>max</th>\n",
       "      <th>mean</th>\n",
       "      <th>std</th>\n",
       "      <th>min</th>\n",
       "      <th>max</th>\n",
       "      <th>mean</th>\n",
       "      <th>std</th>\n",
       "      <th>min</th>\n",
       "      <th>max</th>\n",
       "    </tr>\n",
       "    <tr>\n",
       "      <th>Group</th>\n",
       "      <th></th>\n",
       "      <th></th>\n",
       "      <th></th>\n",
       "      <th></th>\n",
       "      <th></th>\n",
       "      <th></th>\n",
       "      <th></th>\n",
       "      <th></th>\n",
       "      <th></th>\n",
       "      <th></th>\n",
       "      <th></th>\n",
       "      <th></th>\n",
       "      <th></th>\n",
       "      <th></th>\n",
       "      <th></th>\n",
       "      <th></th>\n",
       "    </tr>\n",
       "  </thead>\n",
       "  <tbody>\n",
       "    <tr>\n",
       "      <th>Control</th>\n",
       "      <td>101711.44907</td>\n",
       "      <td>20302.15786</td>\n",
       "      <td>45475.94296</td>\n",
       "      <td>147539.33633</td>\n",
       "      <td>5100.65737</td>\n",
       "      <td>1329.98550</td>\n",
       "      <td>2189.75316</td>\n",
       "      <td>7959.12507</td>\n",
       "      <td>550.89406</td>\n",
       "      <td>134.10820</td>\n",
       "      <td>267.02894</td>\n",
       "      <td>801.79502</td>\n",
       "      <td>1908.56830</td>\n",
       "      <td>302.91778</td>\n",
       "      <td>1253.98952</td>\n",
       "      <td>2497.29522</td>\n",
       "    </tr>\n",
       "    <tr>\n",
       "      <th>Test</th>\n",
       "      <td>120512.41176</td>\n",
       "      <td>18807.44871</td>\n",
       "      <td>79033.83492</td>\n",
       "      <td>158605.92048</td>\n",
       "      <td>3967.54976</td>\n",
       "      <td>923.09507</td>\n",
       "      <td>1836.62986</td>\n",
       "      <td>6019.69508</td>\n",
       "      <td>582.10610</td>\n",
       "      <td>161.15251</td>\n",
       "      <td>311.62952</td>\n",
       "      <td>889.91046</td>\n",
       "      <td>2514.89073</td>\n",
       "      <td>282.73085</td>\n",
       "      <td>1939.61124</td>\n",
       "      <td>3171.48971</td>\n",
       "    </tr>\n",
       "  </tbody>\n",
       "</table>\n",
       "</div>"
      ],
      "text/plain": [
       "          Impression                                           Click                                   Purchase                                  Earning                                \n",
       "                mean         std         min          max       mean        std        min        max      mean       std       min       max       mean       std        min        max\n",
       "Group                                                                                                                                                                                   \n",
       "Control 101711.44907 20302.15786 45475.94296 147539.33633 5100.65737 1329.98550 2189.75316 7959.12507 550.89406 134.10820 267.02894 801.79502 1908.56830 302.91778 1253.98952 2497.29522\n",
       "Test    120512.41176 18807.44871 79033.83492 158605.92048 3967.54976  923.09507 1836.62986 6019.69508 582.10610 161.15251 311.62952 889.91046 2514.89073 282.73085 1939.61124 3171.48971"
      ]
     },
     "execution_count": 10,
     "metadata": {},
     "output_type": "execute_result"
    }
   ],
   "source": [
    "df.groupby(\"Group\").agg([\"mean\",\"std\",\"min\",\"max\"])"
   ]
  },
  {
   "cell_type": "code",
   "execution_count": 11,
   "id": "73da95a0",
   "metadata": {
    "execution": {
     "iopub.execute_input": "2023-04-20T20:26:58.770538Z",
     "iopub.status.busy": "2023-04-20T20:26:58.770113Z",
     "iopub.status.idle": "2023-04-20T20:26:59.503051Z",
     "shell.execute_reply": "2023-04-20T20:26:59.501883Z"
    },
    "papermill": {
     "duration": 0.743505,
     "end_time": "2023-04-20T20:26:59.505658",
     "exception": false,
     "start_time": "2023-04-20T20:26:58.762153",
     "status": "completed"
    },
    "tags": []
   },
   "outputs": [
    {
     "data": {
      "text/plain": [
       "<AxesSubplot:title={'center':'Average Earnings of Control and Test Groups'}, xlabel='Group', ylabel='Earning'>"
      ]
     },
     "execution_count": 11,
     "metadata": {},
     "output_type": "execute_result"
    },
    {
     "data": {
      "image/png": "[encoded data removed]",
      "text/plain": [
       "<Figure size 1152x1008 with 4 Axes>"
      ]
     },
     "metadata": {
      "needs_background": "light"
     },
     "output_type": "display_data"
    }
   ],
   "source": [
    "# 2 groups are compared according to variables by plotting.\n",
    "fig, axes = plt.subplots(2,2,figsize=(16, 14))\n",
    "axes[0,0].set_title(\"Average Impressions of Control and Test Groups\", fontsize = 16)\n",
    "axes[0,1].set_title(\"Average Clicks of Control and Test Groups\", fontsize = 16)\n",
    "axes[1,0].set_title(\"Average Purchases of Control and Test Groups\", fontsize = 16)\n",
    "axes[1,1].set_title(\"Average Earnings of Control and Test Groups\", fontsize = 16)\n",
    "sns.barplot(ax=axes[0,0], y = \"Impression\", x = \"Group\", data = df)\n",
    "sns.barplot(ax=axes[0,1], y = \"Click\", x = \"Group\", data = df)\n",
    "sns.barplot(ax=axes[1,0], y = \"Purchase\", x = \"Group\", data = df)\n",
    "sns.barplot(ax=axes[1,1], y = \"Earning\", x = \"Group\", data = df)"
   ]
  },
  {
   "cell_type": "code",
   "execution_count": 12,
   "id": "7e8c13bd",
   "metadata": {
    "execution": {
     "iopub.execute_input": "2023-04-20T20:26:59.523186Z",
     "iopub.status.busy": "2023-04-20T20:26:59.522538Z",
     "iopub.status.idle": "2023-04-20T20:27:00.125511Z",
     "shell.execute_reply": "2023-04-20T20:27:00.124614Z"
    },
    "papermill": {
     "duration": 0.614697,
     "end_time": "2023-04-20T20:27:00.127727",
     "exception": false,
     "start_time": "2023-04-20T20:26:59.513030",
     "status": "completed"
    },
    "tags": []
   },
   "outputs": [
    {
     "data": {
      "text/plain": [
       "<AxesSubplot:title={'center':'Earnings Boxplot of Control and Test Groups'}, xlabel='Group', ylabel='Earning'>"
      ]
     },
     "execution_count": 12,
     "metadata": {},
     "output_type": "execute_result"
    },
    {
     "data": {
      "image/png": "[encoded data removed]",
      "text/plain": [
       "<Figure size 1152x1008 with 4 Axes>"
      ]
     },
     "metadata": {
      "needs_background": "light"
     },
     "output_type": "display_data"
    }
   ],
   "source": [
    "# 2 groups are compared according to variables by plotting.\n",
    "fig, axes = plt.subplots(2,2,figsize=(16, 14))\n",
    "axes[0,0].set_title(\"Impression Boxplot of Control and Test Groups\", fontsize = 16)\n",
    "axes[0,1].set_title(\"Clicks Boxplot of Control and Test Groups\", fontsize = 16)\n",
    "axes[1,0].set_title(\"Purchase Boxplot of Control and Test Groups\", fontsize = 16)\n",
    "axes[1,1].set_title(\"Earnings Boxplot of Control and Test Groups\", fontsize = 16)\n",
    "sns.boxplot(ax=axes[0,0], y = \"Impression\", x = \"Group\", data = df)\n",
    "sns.boxplot(ax=axes[0,1], y = \"Click\", x = \"Group\", data = df)\n",
    "sns.boxplot(ax=axes[1,0], y = \"Purchase\", x = \"Group\", data = df)\n",
    "sns.boxplot(ax=axes[1,1], y = \"Earning\", x = \"Group\", data = df)"
   ]
  },
  {
   "cell_type": "markdown",
   "id": "61f18e22",
   "metadata": {
    "papermill": {
     "duration": 0.008203,
     "end_time": "2023-04-20T20:27:00.144427",
     "exception": false,
     "start_time": "2023-04-20T20:27:00.136224",
     "status": "completed"
    },
    "tags": []
   },
   "source": [
    "### 1. Defining Hypotheses\n",
    "$\\rhd$ **H0:** M1 = M2 (There is not any statistical difference between two bidding types in terms of purchase means.)  \n",
    "$\\rhd$ **H1:** M1 != M2 (There is statistical difference between two bidding types in terms of purchase means.)"
   ]
  },
  {
   "cell_type": "code",
   "execution_count": 13,
   "id": "9293e902",
   "metadata": {
    "execution": {
     "iopub.execute_input": "2023-04-20T20:27:00.163971Z",
     "iopub.status.busy": "2023-04-20T20:27:00.162730Z",
     "iopub.status.idle": "2023-04-20T20:27:00.171159Z",
     "shell.execute_reply": "2023-04-20T20:27:00.170016Z"
    },
    "papermill": {
     "duration": 0.020614,
     "end_time": "2023-04-20T20:27:00.173674",
     "exception": false,
     "start_time": "2023-04-20T20:27:00.153060",
     "status": "completed"
    },
    "tags": []
   },
   "outputs": [
    {
     "name": "stdout",
     "output_type": "stream",
     "text": [
      "Control Group Purchase Average = 550.8940587702316\n",
      "Test Group Purchase Average = 582.1060966484677\n"
     ]
    }
   ],
   "source": [
    "purchase_mean_control = df.loc[df[\"Group\"]==\"Control\",\"Purchase\"].mean()\n",
    "purchase_mean_test = df.loc[df[\"Group\"]==\"Test\",\"Purchase\"].mean()\n",
    "print(f\"Control Group Purchase Average = {purchase_mean_control}\\nTest Group Purchase Average = {purchase_mean_test}\")"
   ]
  },
  {
   "cell_type": "markdown",
   "id": "af6046d2",
   "metadata": {
    "papermill": {
     "duration": 0.008338,
     "end_time": "2023-04-20T20:27:00.190480",
     "exception": false,
     "start_time": "2023-04-20T20:27:00.182142",
     "status": "completed"
    },
    "tags": []
   },
   "source": [
    "### 2. Assumptions\n",
    "#### 2.1.  Normal Distribution Assumption\n",
    "\n",
    "$\\rhd$ **H0:** Normal distribution assumption is verified.  \n",
    "$\\rhd$ **H1:** Normal distribution assumption is not verified."
   ]
  },
  {
   "cell_type": "code",
   "execution_count": 14,
   "id": "3d2d1ecf",
   "metadata": {
    "execution": {
     "iopub.execute_input": "2023-04-20T20:27:00.209067Z",
     "iopub.status.busy": "2023-04-20T20:27:00.208676Z",
     "iopub.status.idle": "2023-04-20T20:27:00.217080Z",
     "shell.execute_reply": "2023-04-20T20:27:00.216004Z"
    },
    "papermill": {
     "duration": 0.020934,
     "end_time": "2023-04-20T20:27:00.219691",
     "exception": false,
     "start_time": "2023-04-20T20:27:00.198757",
     "status": "completed"
    },
    "tags": []
   },
   "outputs": [
    {
     "name": "stdout",
     "output_type": "stream",
     "text": [
      "Control Group: \n",
      "Test stat= 0.9772694110870361, pvalue 0.5891125202178955\n",
      "\n",
      "Test Group: \n",
      "Test stat= 0.9589452147483826, pvalue 0.15413185954093933\n"
     ]
    }
   ],
   "source": [
    "# Normal distribution assumption test for control group.\n",
    "test_stat, pvalue = shapiro(df.loc[df[\"Group\"]==\"Control\",\"Purchase\"])\n",
    "print(f'Control Group: \\nTest stat= {test_stat}, pvalue {pvalue}\\n')\n",
    "\n",
    "# Normal distribution assumption test for test group.\n",
    "test_stat, pvalue = shapiro(df.loc[df[\"Group\"]==\"Test\",\"Purchase\"])\n",
    "print(f'Test Group: \\nTest stat= {test_stat}, pvalue {pvalue}')"
   ]
  },
  {
   "cell_type": "markdown",
   "id": "4004c460",
   "metadata": {
    "papermill": {
     "duration": 0.008567,
     "end_time": "2023-04-20T20:27:00.236850",
     "exception": false,
     "start_time": "2023-04-20T20:27:00.228283",
     "status": "completed"
    },
    "tags": []
   },
   "source": [
    "$\\bigstar$ P values are bigger than 0.05 for both control and test groups. Hypotheses can not be rejected for both groups which indicates normal distribution assumption is verified for both."
   ]
  },
  {
   "cell_type": "markdown",
   "id": "2bef3f17",
   "metadata": {
    "papermill": {
     "duration": 0.008205,
     "end_time": "2023-04-20T20:27:00.253570",
     "exception": false,
     "start_time": "2023-04-20T20:27:00.245365",
     "status": "completed"
    },
    "tags": []
   },
   "source": [
    "#### 2.2. Homogeneity of Variance Assumption\n",
    "$\\rhd$ **H0:** Homogeneity of variance assumption is verified.  \n",
    "$\\rhd$ **H1:** Homogeneity of variance assumption is not verified. "
   ]
  },
  {
   "cell_type": "code",
   "execution_count": 15,
   "id": "be04dba4",
   "metadata": {
    "execution": {
     "iopub.execute_input": "2023-04-20T20:27:00.272473Z",
     "iopub.status.busy": "2023-04-20T20:27:00.272057Z",
     "iopub.status.idle": "2023-04-20T20:27:00.280154Z",
     "shell.execute_reply": "2023-04-20T20:27:00.279254Z"
    },
    "papermill": {
     "duration": 0.020121,
     "end_time": "2023-04-20T20:27:00.282348",
     "exception": false,
     "start_time": "2023-04-20T20:27:00.262227",
     "status": "completed"
    },
    "tags": []
   },
   "outputs": [
    {
     "name": "stdout",
     "output_type": "stream",
     "text": [
      "Test stat= 2.6392694728747363, pvalue 0.10828588271874791\n"
     ]
    }
   ],
   "source": [
    "# Homogeneity of variance assumption test for control and test groups together.\n",
    "test_stat, pvalue = levene(df.loc[df[\"Group\"]==\"Control\",\"Purchase\"], df.loc[df[\"Group\"]==\"Test\",\"Purchase\"])\n",
    "print(f'Test stat= {test_stat}, pvalue {pvalue}')\n"
   ]
  },
  {
   "cell_type": "markdown",
   "id": "493338e4",
   "metadata": {
    "papermill": {
     "duration": 0.008257,
     "end_time": "2023-04-20T20:27:00.299199",
     "exception": false,
     "start_time": "2023-04-20T20:27:00.290942",
     "status": "completed"
    },
    "tags": []
   },
   "source": [
    "$\\bigstar$ P value is bigger than 0.05. Hypothesis cannot be rejected which indicates homogeneity of variance assumption is verified."
   ]
  },
  {
   "cell_type": "markdown",
   "id": "ac91fbef",
   "metadata": {
    "papermill": {
     "duration": 0.008234,
     "end_time": "2023-04-20T20:27:00.315876",
     "exception": false,
     "start_time": "2023-04-20T20:27:00.307642",
     "status": "completed"
    },
    "tags": []
   },
   "source": [
    "### 3. Application of Hypothesis - AB Test\n",
    "$\\bigstar$ Since both assumptions are verified, AB Test is performed using parametric test which is t-test."
   ]
  },
  {
   "cell_type": "code",
   "execution_count": 16,
   "id": "a956e6e8",
   "metadata": {
    "execution": {
     "iopub.execute_input": "2023-04-20T20:27:00.335220Z",
     "iopub.status.busy": "2023-04-20T20:27:00.334063Z",
     "iopub.status.idle": "2023-04-20T20:27:00.342755Z",
     "shell.execute_reply": "2023-04-20T20:27:00.341340Z"
    },
    "papermill": {
     "duration": 0.020523,
     "end_time": "2023-04-20T20:27:00.345014",
     "exception": false,
     "start_time": "2023-04-20T20:27:00.324491",
     "status": "completed"
    },
    "tags": []
   },
   "outputs": [
    {
     "name": "stdout",
     "output_type": "stream",
     "text": [
      "Test stat= -0.9415584300312964, pvalue 0.34932579202108416\n"
     ]
    }
   ],
   "source": [
    "test_stat, pvalue = ttest_ind(df.loc[df[\"Group\"]==\"Control\",\"Purchase\"], df.loc[df[\"Group\"]==\"Test\",\"Purchase\"], equal_var=True)\n",
    "print(f'Test stat= {test_stat}, pvalue {pvalue}')"
   ]
  },
  {
   "cell_type": "markdown",
   "id": "47e386fe",
   "metadata": {
    "papermill": {
     "duration": 0.008421,
     "end_time": "2023-04-20T20:27:00.362031",
     "exception": false,
     "start_time": "2023-04-20T20:27:00.353610",
     "status": "completed"
    },
    "tags": []
   },
   "source": [
    "## Insights\n",
    "As P value is bigger than 0.05, the hypothesis cannot be rejected. It means that, It cannot be denied that there is not any statistical difference between two bidding types in terms of purchase averages. Therefore, it would be illogical to take action according to these results. Moreover, it could be benefical to perform this analysis with time dependency between different periods."
   ]
  }
 ],
 "metadata": {
  "kernelspec": {
   "display_name": "Python 3",
   "language": "python",
   "name": "python3"
  },
  "language_info": {
   "codemirror_mode": {
    "name": "ipython",
    "version": 3
   },
   "file_extension": ".py",
   "mimetype": "text/x-python",
   "name": "python",
   "nbconvert_exporter": "python",
   "pygments_lexer": "ipython3",
   "version": "3.7.12"
  },
  "papermill": {
   "default_parameters": {},
   "duration": 14.090548,
   "end_time": "2023-04-20T20:27:01.192797",
   "environment_variables": {},
   "exception": null,
   "input_path": "__notebook__.ipynb",
   "output_path": "__notebook__.ipynb",
   "parameters": {},
   "start_time": "2023-04-20T20:26:47.102249",
   "version": "2.3.4"
  }
 },
 "nbformat": 4,
 "nbformat_minor": 5
}
